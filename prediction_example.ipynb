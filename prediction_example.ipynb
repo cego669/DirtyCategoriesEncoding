{
 "cells": [
  {
   "cell_type": "markdown",
   "id": "0ed07bee",
   "metadata": {},
   "source": [
    "# Brief comparison between `OneHotEncoder` and `StringDistanceEncoder` for prediction"
   ]
  },
  {
   "cell_type": "markdown",
   "id": "ee3d07ab",
   "metadata": {},
   "source": [
    "## 1) Loading and preparing data"
   ]
  },
  {
   "cell_type": "markdown",
   "id": "7f3ec2ff",
   "metadata": {},
   "source": [
    "First, we will load the data and take a look at the values of the resulting DataFrame."
   ]
  },
  {
   "cell_type": "code",
   "execution_count": 1,
   "id": "6f513235",
   "metadata": {},
   "outputs": [
    {
     "data": {
      "text/html": [
       "<div>\n",
       "<style scoped>\n",
       "    .dataframe tbody tr th:only-of-type {\n",
       "        vertical-align: middle;\n",
       "    }\n",
       "\n",
       "    .dataframe tbody tr th {\n",
       "        vertical-align: top;\n",
       "    }\n",
       "\n",
       "    .dataframe thead th {\n",
       "        text-align: right;\n",
       "    }\n",
       "</style>\n",
       "<table border=\"1\" class=\"dataframe\">\n",
       "  <thead>\n",
       "    <tr style=\"text-align: right;\">\n",
       "      <th></th>\n",
       "      <th>Age</th>\n",
       "      <th>Gender</th>\n",
       "      <th>Education Level</th>\n",
       "      <th>Job Title</th>\n",
       "      <th>Years of Experience</th>\n",
       "      <th>Salary</th>\n",
       "    </tr>\n",
       "  </thead>\n",
       "  <tbody>\n",
       "    <tr>\n",
       "      <th>0</th>\n",
       "      <td>32.0</td>\n",
       "      <td>Male</td>\n",
       "      <td>Bachelor's</td>\n",
       "      <td>Software Engineer</td>\n",
       "      <td>5.0</td>\n",
       "      <td>90000.0</td>\n",
       "    </tr>\n",
       "    <tr>\n",
       "      <th>1</th>\n",
       "      <td>28.0</td>\n",
       "      <td>Female</td>\n",
       "      <td>Master's</td>\n",
       "      <td>Data Analyst</td>\n",
       "      <td>3.0</td>\n",
       "      <td>65000.0</td>\n",
       "    </tr>\n",
       "    <tr>\n",
       "      <th>2</th>\n",
       "      <td>45.0</td>\n",
       "      <td>Male</td>\n",
       "      <td>PhD</td>\n",
       "      <td>Senior Manager</td>\n",
       "      <td>15.0</td>\n",
       "      <td>150000.0</td>\n",
       "    </tr>\n",
       "    <tr>\n",
       "      <th>3</th>\n",
       "      <td>36.0</td>\n",
       "      <td>Female</td>\n",
       "      <td>Bachelor's</td>\n",
       "      <td>Sales Associate</td>\n",
       "      <td>7.0</td>\n",
       "      <td>60000.0</td>\n",
       "    </tr>\n",
       "    <tr>\n",
       "      <th>4</th>\n",
       "      <td>52.0</td>\n",
       "      <td>Male</td>\n",
       "      <td>Master's</td>\n",
       "      <td>Director</td>\n",
       "      <td>20.0</td>\n",
       "      <td>200000.0</td>\n",
       "    </tr>\n",
       "  </tbody>\n",
       "</table>\n",
       "</div>"
      ],
      "text/plain": [
       "    Age  Gender Education Level          Job Title  Years of Experience  \\\n",
       "0  32.0    Male      Bachelor's  Software Engineer                  5.0   \n",
       "1  28.0  Female        Master's       Data Analyst                  3.0   \n",
       "2  45.0    Male             PhD     Senior Manager                 15.0   \n",
       "3  36.0  Female      Bachelor's    Sales Associate                  7.0   \n",
       "4  52.0    Male        Master's           Director                 20.0   \n",
       "\n",
       "     Salary  \n",
       "0   90000.0  \n",
       "1   65000.0  \n",
       "2  150000.0  \n",
       "3   60000.0  \n",
       "4  200000.0  "
      ]
     },
     "execution_count": 1,
     "metadata": {},
     "output_type": "execute_result"
    }
   ],
   "source": [
    "import pandas as pd\n",
    "\n",
    "data = pd.read_csv(\"Salary_Data.csv\")\n",
    "data.head()"
   ]
  },
  {
   "cell_type": "markdown",
   "id": "c9def1ea",
   "metadata": {},
   "source": [
    "Note that there are three numeric variables (`Age`, `Years of Experience`, and `Salary`) and three categorical variables (`Gender`, `Education Level`, `Job Title`). The latter are of most interest to us for this example.\n",
    "\n",
    "Before we continue, let's see how many rows there are in this dataset:"
   ]
  },
  {
   "cell_type": "code",
   "execution_count": 2,
   "id": "9aa588fa",
   "metadata": {},
   "outputs": [
    {
     "data": {
      "text/plain": [
       "6704"
      ]
     },
     "execution_count": 2,
     "metadata": {},
     "output_type": "execute_result"
    }
   ],
   "source": [
    "len(data)"
   ]
  },
  {
   "cell_type": "markdown",
   "id": "77256575",
   "metadata": {},
   "source": [
    "There are 6704 rows, where one or another, of course, must have some missing value. But before we analyze that, let's focus on getting the count of unique values for the categorical variables:"
   ]
  },
  {
   "cell_type": "code",
   "execution_count": 3,
   "id": "61f351ad",
   "metadata": {
    "scrolled": true
   },
   "outputs": [
    {
     "name": "stdout",
     "output_type": "stream",
     "text": [
      "\n",
      "**************************************************\n",
      "GENDER\n",
      "TOTAL: 4\n",
      "Gender\n",
      "Male      3674\n",
      "Female    3014\n",
      "Other       14\n",
      "Name: count, dtype: int64\n",
      "\n",
      "**************************************************\n",
      "EDUCATION LEVEL\n",
      "TOTAL: 8\n",
      "Education Level\n",
      "Bachelor's Degree    2267\n",
      "Master's Degree      1573\n",
      "PhD                  1368\n",
      "Bachelor's            756\n",
      "High School           448\n",
      "Master's              288\n",
      "phD                     1\n",
      "Name: count, dtype: int64\n",
      "\n",
      "**************************************************\n",
      "JOB TITLE\n",
      "TOTAL: 194\n",
      "Job Title\n",
      "Software Engineer                        518\n",
      "Data Scientist                           453\n",
      "Software Engineer Manager                376\n",
      "Data Analyst                             363\n",
      "Senior Project Engineer                  318\n",
      "Product Manager                          313\n",
      "Full Stack Engineer                      309\n",
      "Marketing Manager                        255\n",
      "Back end Developer                       244\n",
      "Senior Software Engineer                 244\n",
      "Front end Developer                      241\n",
      "Marketing Coordinator                    158\n",
      "Junior Sales Associate                   142\n",
      "Financial Manager                        134\n",
      "Marketing Analyst                        132\n",
      "Software Developer                       125\n",
      "Operations Manager                       114\n",
      "Human Resources Manager                  104\n",
      "Director of Marketing                     88\n",
      "Web Developer                             87\n",
      "Research Director                         75\n",
      "Product Designer                          75\n",
      "Content Marketing Manager                 73\n",
      "Sales Associate                           70\n",
      "Senior Product Marketing Manager          69\n",
      "Director of HR                            69\n",
      "Research Scientist                        69\n",
      "Marketing Director                        64\n",
      "Sales Director                            63\n",
      "Senior Data Scientist                     61\n",
      "Junior HR Generalist                      60\n",
      "Junior Software Developer                 58\n",
      "Receptionist                              57\n",
      "Director of Data Science                  57\n",
      "Sales Manager                             56\n",
      "Digital Marketing Manager                 52\n",
      "Junior Marketing Manager                  51\n",
      "Junior Software Engineer                  51\n",
      "Human Resources Coordinator               49\n",
      "Senior Research Scientist                 49\n",
      "Senior Human Resources Manager            48\n",
      "Senior HR Generalist                      42\n",
      "Junior Web Developer                      42\n",
      "Junior Sales Representative               41\n",
      "Financial Analyst                         39\n",
      "Sales Executive                           38\n",
      "Sales Representative                      38\n",
      "Front End Developer                       31\n",
      "Junior HR Coordinator                     29\n",
      "Junior Data Analyst                       25\n",
      "Graphic Designer                          22\n",
      "Project Manager                           22\n",
      "Digital Marketing Specialist              15\n",
      "Social Media Manager                      14\n",
      "Director of Operations                    11\n",
      "Senior Business Analyst                   10\n",
      "Senior Marketing Analyst                   9\n",
      "Senior Marketing Manager                   9\n",
      "Junior Business Analyst                    8\n",
      "Senior Financial Analyst                   7\n",
      "Junior Financial Analyst                   7\n",
      "Senior Project Manager                     7\n",
      "Junior Business Development Associate      7\n",
      "Senior Product Manager                     6\n",
      "Customer Service Representative            6\n",
      "Junior Marketing Coordinator               6\n",
      "Junior Operations Analyst                  5\n",
      "Junior Marketing Specialist                5\n",
      "Junior Project Manager                     5\n",
      "Senior Project Coordinator                 5\n",
      "Senior Product Designer                    5\n",
      "Senior Financial Manager                   5\n",
      "Senior Operations Manager                  5\n",
      "Delivery Driver                            5\n",
      "Senior Business Development Manager        4\n",
      "Junior Product Manager                     4\n",
      "Senior Data Engineer                       4\n",
      "Senior Operations Coordinator              4\n",
      "Senior Marketing Specialist                4\n",
      "Senior HR Manager                          3\n",
      "Senior Financial Advisor                   3\n",
      "Junior Operations Manager                  3\n",
      "Senior Data Analyst                        3\n",
      "Senior Software Developer                  3\n",
      "Junior Marketing Analyst                   3\n",
      "Senior Marketing Coordinator               3\n",
      "Junior Accountant                          3\n",
      "Juniour HR Coordinator                     3\n",
      "Senior UX Designer                         3\n",
      "Senior Scientist                           3\n",
      "Juniour HR Generalist                      3\n",
      "Event Coordinator                          2\n",
      "Senior Accountant                          2\n",
      "Senior IT Consultant                       2\n",
      "Senior Sales Manager                       2\n",
      "Administrative Assistant                   2\n",
      "Junior Business Operations Analyst         2\n",
      "Senior Manager                             2\n",
      "Customer Service Manager                   2\n",
      "Director of Finance                        2\n",
      "Director of Human Resources                2\n",
      "Business Analyst                           2\n",
      "Senior Operations Analyst                  2\n",
      "HR Generalist                              2\n",
      "HR Manager                                 2\n",
      "Junior Account Manager                     2\n",
      "Recruiter                                  2\n",
      "Director of Engineering                    2\n",
      "Senior Sales Representative                2\n",
      "Senior Engineer                            2\n",
      "Senior Account Executive                   1\n",
      "Senior Quality Assurance Analyst           1\n",
      "Director of Sales and Marketing            1\n",
      "Director of Human Capital                  1\n",
      "Junior Advertising Coordinator             1\n",
      "Director of Business Development           1\n",
      "Junior UX Designer                         1\n",
      "Senior Human Resources Specialist          1\n",
      "Junior Social Media Manager                1\n",
      "Senior IT Project Manager                  1\n",
      "Financial Advisor                          1\n",
      "Senior Marketing Director                  1\n",
      "Social Media Specialist                    1\n",
      "Social Media Man                           1\n",
      "Social M                                   1\n",
      "Director                                   1\n",
      "Customer Service Rep                       1\n",
      "Data Entry Clerk                           1\n",
      "Developer                                  1\n",
      "VP of Operations                           1\n",
      "IT Support                                 1\n",
      "Software Manager                           1\n",
      "Junior Social Media Specialist             1\n",
      "Junior Financial Advisor                   1\n",
      "Junior Developer                           1\n",
      "Junior Operations Coordinator              1\n",
      "Senior HR Specialist                       1\n",
      "Senior Consultant                          1\n",
      "Junior Research Scientist                  1\n",
      "Senior Human Resources Coordinator         1\n",
      "Senior Product Development Manager         1\n",
      "Senior Software Architect                  1\n",
      "Technical Writer                           1\n",
      "Junior Data Scientist                      1\n",
      "Technical Support Specialist               1\n",
      "Principal Engineer                         1\n",
      "Office Manager                             1\n",
      "IT Manager                                 1\n",
      "Software Project Manager                   1\n",
      "Senior Graphic Designer                    1\n",
      "Customer Success Manager                   1\n",
      "Business Development Manager               1\n",
      "IT Support Specialist                      1\n",
      "Digital Content Producer                   1\n",
      "Chief Data Officer                         1\n",
      "Creative Director                          1\n",
      "CEO                                        1\n",
      "Product Marketing Manager                  1\n",
      "Operations Analyst                         1\n",
      "Public Relations Manager                   1\n",
      "Human Resources Director                   1\n",
      "Technical Recruiter                        1\n",
      "Training Specialist                        1\n",
      "Chief Technology Officer                   1\n",
      "Supply Chain Manager                       1\n",
      "Principal Scientist                        1\n",
      "Junior Designer                            1\n",
      "UX Researcher                              1\n",
      "VP of Finance                              1\n",
      "Business Intelligence Analyst              1\n",
      "Sales Operations Manager                   1\n",
      "Accountant                                 1\n",
      "Senior Researcher                          1\n",
      "Senior Account Manager                     1\n",
      "Marketing Specialist                       1\n",
      "Junior Copywriter                          1\n",
      "Director of Product Management             1\n",
      "Project Engineer                           1\n",
      "Customer Success Rep                       1\n",
      "Senior IT Support Specialist               1\n",
      "Junior Customer Support Specialist         1\n",
      "UX Designer                                1\n",
      "Junior Recruiter                           1\n",
      "Director of Sales                          1\n",
      "Operations Director                        1\n",
      "Network Engineer                           1\n",
      "Strategy Consultant                        1\n",
      "Copywriter                                 1\n",
      "Account Manager                            1\n",
      "Help Desk Analyst                          1\n",
      "Senior Training Specialist                 1\n",
      "Junior Web Designer                        1\n",
      "Supply Chain Analyst                       1\n",
      "Name: count, dtype: int64\n"
     ]
    }
   ],
   "source": [
    "with pd.option_context('display.max_rows', None,):\n",
    "    for col in data.columns:\n",
    "        if col in [\"Age\", \"Years of Experience\", \"Salary\"]:\n",
    "            continue\n",
    "        else:\n",
    "            print(\"\\n\" + \"*\"*50)\n",
    "            print(f\"{col.upper()}\")\n",
    "            print(f\"TOTAL: {len(data[col].unique())}\")\n",
    "            print(data[col].value_counts())"
   ]
  },
  {
   "cell_type": "markdown",
   "id": "c637c036",
   "metadata": {},
   "source": [
    "Note that there are some small differences in the typing between the categories of the `Education Level` variable, but they are not impactful for the machine learning models in terms of cardinality. However, for the `Job Title` variable, note that there are 194 unique values, among which there is a significant number containing only one instance. In this case, reducing cardinality through the use of `StringDistanceEncoder` can be of great value.\n",
    "\n",
    "Let's now analyze the percentage of missing values in each column of the DataFrame:"
   ]
  },
  {
   "cell_type": "code",
   "execution_count": 4,
   "id": "fd88bdf4",
   "metadata": {},
   "outputs": [
    {
     "data": {
      "text/plain": [
       "Age                    0.029833\n",
       "Gender                 0.029833\n",
       "Education Level        0.044749\n",
       "Job Title              0.029833\n",
       "Years of Experience    0.044749\n",
       "Salary                 0.074582\n",
       "dtype: float64"
      ]
     },
     "execution_count": 4,
     "metadata": {},
     "output_type": "execute_result"
    }
   ],
   "source": [
    "data.isna().sum()/len(data)*100"
   ]
  },
  {
   "cell_type": "markdown",
   "id": "b27ba198",
   "metadata": {},
   "source": [
    "Since the percentage of missing values is low for the columns, for the purposes of this example we can be content with just deleting the rows containing missing values:"
   ]
  },
  {
   "cell_type": "code",
   "execution_count": 5,
   "id": "c492e577",
   "metadata": {},
   "outputs": [
    {
     "name": "stdout",
     "output_type": "stream",
     "text": [
      "Age                    0.0\n",
      "Gender                 0.0\n",
      "Education Level        0.0\n",
      "Job Title              0.0\n",
      "Years of Experience    0.0\n",
      "Salary                 0.0\n",
      "dtype: float64\n",
      "New total of rows: 6698\n"
     ]
    }
   ],
   "source": [
    "data.dropna(how=\"any\", inplace=True)\n",
    "\n",
    "print(data.isna().sum()/len(data)*100)\n",
    "print(\"New total of rows:\", len(data))"
   ]
  },
  {
   "cell_type": "markdown",
   "id": "0bb56afc",
   "metadata": {},
   "source": [
    "Note that the new total number of rows is 6698, which is almost no difference compared to the initial number.\n",
    "\n",
    "Let's now prepare the data for modeling, using the `Salary` column as the dependent variable and the rest of the columns as dependent variables:"
   ]
  },
  {
   "cell_type": "code",
   "execution_count": 6,
   "id": "ccf23c64",
   "metadata": {},
   "outputs": [],
   "source": [
    "X = data.drop(columns=[\"Salary\"])\n",
    "y = data[\"Salary\"].values"
   ]
  },
  {
   "cell_type": "markdown",
   "id": "f1163ecb",
   "metadata": {},
   "source": [
    "## 2) Modeling using `OneHotEncoder`"
   ]
  },
  {
   "cell_type": "markdown",
   "id": "35127930",
   "metadata": {},
   "source": [
    "When modeling using `OneHotEncoder`, we can expect that the `Ridge` regression model will have to make use of all 194 categories present in the data for the `Job Title` column. In more complex datasets, this can be quite detrimental in terms of overfitting if the categories are not properly processed/normalized.\n",
    "\n",
    "Below is all the code related to the modeling:"
   ]
  },
  {
   "cell_type": "code",
   "execution_count": 7,
   "id": "21c0e487",
   "metadata": {},
   "outputs": [],
   "source": [
    "from sklearn.preprocessing import OneHotEncoder\n",
    "from sklearn.compose import ColumnTransformer\n",
    "from sklearn.pipeline import Pipeline\n",
    "from sklearn.linear_model import Ridge\n",
    "from sklearn.model_selection import cross_val_score\n",
    "from sklearn.model_selection import KFold\n",
    "\n",
    "col_transforms = ColumnTransformer([(\"OHE_gender\", OneHotEncoder(handle_unknown=\"ignore\"), [\"Gender\"]),\n",
    "                                    (\"OHE_education\", OneHotEncoder(handle_unknown=\"ignore\"), [\"Education Level\"]),\n",
    "                                    (\"OHE_job_title\", OneHotEncoder(handle_unknown=\"ignore\"), [\"Job Title\"])],\n",
    "                                   remainder=\"passthrough\")\n",
    "\n",
    "naive_pipe = Pipeline([(\"col_transforms\", col_transforms),\n",
    "                       (\"regressor\", Ridge(random_state=668))])\n",
    "\n",
    "kfold = KFold(n_splits=10, shuffle=True, random_state=669)\n",
    "\n",
    "naive_results = -cross_val_score(naive_pipe, X, y, cv=kfold, scoring=\"neg_root_mean_squared_error\")"
   ]
  },
  {
   "cell_type": "markdown",
   "id": "8171c606",
   "metadata": {},
   "source": [
    "The relevant results in terms of RMSE for the 10 folds generated are shown below:"
   ]
  },
  {
   "cell_type": "code",
   "execution_count": 8,
   "id": "855df731",
   "metadata": {},
   "outputs": [
    {
     "name": "stdout",
     "output_type": "stream",
     "text": [
      "Results per fold:\n",
      "[17752.018424   19208.2363638  18941.2741853  17223.56487485\n",
      " 18990.09916807 18404.48847088 19043.29129139 19375.15249527\n",
      " 17931.03042445 17929.86923761]\n",
      "Mean RMSE: 18479.902493561356\n",
      "Std RMSE: 695.715318996579\n"
     ]
    }
   ],
   "source": [
    "print(\"Results per fold:\")\n",
    "print(naive_results)\n",
    "print(\"Mean RMSE:\", naive_results.mean())\n",
    "print(\"Std RMSE:\", naive_results.std())"
   ]
  },
  {
   "cell_type": "markdown",
   "id": "c6d42194",
   "metadata": {},
   "source": [
    "## 3) Modeling using `StringDistanceEncoder`"
   ]
  },
  {
   "cell_type": "markdown",
   "id": "c61573e9",
   "metadata": {},
   "source": [
    "When modeling using `StringDistanceEncoder`, we can choose the number of components to represent the distances between the corresponding strings of each category. This is extremely useful for linear models, as we can aim to keep the cardinality at its minimum, increasing the chances of the model generalizing to data outside the training set. In this example, 2 components will be used for the `Education Level` variable and 5 components for the `Job Title` variable.\n",
    "\n",
    "Below is all the code related to the modeling:"
   ]
  },
  {
   "cell_type": "code",
   "execution_count": 9,
   "id": "686753c5",
   "metadata": {},
   "outputs": [],
   "source": [
    "from StringDistanceEncoder import StringDistanceEncoder\n",
    "\n",
    "education_distance_encoding_pipe = Pipeline([(\"distance_encoding\", StringDistanceEncoder(n_components=2)),\n",
    "                                            (\"OHE\", OneHotEncoder(handle_unknown=\"ignore\"))])\n",
    "\n",
    "job_title_distance_encoding_pipe = Pipeline([(\"distance_encoding\", StringDistanceEncoder(n_components=5)),\n",
    "                                            (\"OHE\", OneHotEncoder(handle_unknown=\"ignore\"))])\n",
    "\n",
    "col_transforms_distance_encoding = ColumnTransformer([(\"OHE_gender\", OneHotEncoder(handle_unknown=\"ignore\"), [\"Gender\"]),\n",
    "                                    (\"OHE_education\", education_distance_encoding_pipe, [\"Education Level\"]),\n",
    "                                    (\"OHE_job_title\", job_title_distance_encoding_pipe, [\"Job Title\"])],\n",
    "                                   remainder=\"passthrough\")\n",
    "\n",
    "distance_encoding_pipe = Pipeline([(\"col_transforms\", col_transforms_distance_encoding),\n",
    "                                   (\"regressor\", Ridge(random_state=668))])\n",
    "\n",
    "distance_encoding_results = -cross_val_score(distance_encoding_pipe, X, y, cv=kfold, scoring=\"neg_root_mean_squared_error\")"
   ]
  },
  {
   "cell_type": "markdown",
   "id": "c053950f",
   "metadata": {},
   "source": [
    "The relevant results in terms of RMSE for the 10 folds generated are shown below:"
   ]
  },
  {
   "cell_type": "code",
   "execution_count": 10,
   "id": "926fdbed",
   "metadata": {},
   "outputs": [
    {
     "name": "stdout",
     "output_type": "stream",
     "text": [
      "Results per fold:\n",
      "[17703.74767275 19112.21214879 18799.4427444  17152.64667413\n",
      " 18914.74648229 18314.55720995 18808.59030876 19179.41012845\n",
      " 17911.72447601 17727.22571508]\n",
      "Mean RMSE: 18362.430356061857\n",
      "Std RMSE: 665.6630016882208\n"
     ]
    }
   ],
   "source": [
    "print(\"Results per fold:\")\n",
    "print(distance_encoding_results)\n",
    "print(\"Mean RMSE:\", distance_encoding_results.mean())\n",
    "print(\"Std RMSE:\", distance_encoding_results.std())"
   ]
  },
  {
   "cell_type": "markdown",
   "id": "39f22576",
   "metadata": {},
   "source": [
    "## 4) Comparing the results"
   ]
  },
  {
   "cell_type": "markdown",
   "id": "1fd77b73",
   "metadata": {},
   "source": [
    "To compare the results more intuitively, we can plot the RMSE obtained for each fold:"
   ]
  },
  {
   "cell_type": "code",
   "execution_count": 11,
   "id": "ba1b61f9",
   "metadata": {},
   "outputs": [
    {
     "data": {
      "image/png": "[encoded data removed]",
      "text/plain": [
       "<Figure size 640x480 with 1 Axes>"
      ]
     },
     "metadata": {},
     "output_type": "display_data"
    }
   ],
   "source": [
    "import matplotlib.pyplot as plt\n",
    "\n",
    "plt.plot(range(1, 11), naive_results, label=\"One Hot Encoding (150+ categories) + Ridge model\",\n",
    "        linestyle=\"--\", marker=\"o\", color=\"red\")\n",
    "plt.plot(range(1, 11), distance_encoding_results, label=\"StringDistanceEncoder (5 components) + Ridge model\",\n",
    "        linestyle=\"--\", marker=\"o\", color=\"black\")\n",
    "plt.title(\"Salary prediction results (10 folds)\")\n",
    "plt.xlabel(\"Fold\")\n",
    "plt.ylabel(\"RMSE\")\n",
    "plt.ylim((17000, 20000))\n",
    "plt.gca().set_xticks(range(1, 11))\n",
    "plt.gca().spines[['right', 'top']].set_visible(False)\n",
    "plt.legend()\n",
    "plt.savefig(\"salary_prediction_results.png\", dpi=400)\n",
    "plt.show()"
   ]
  },
  {
   "cell_type": "markdown",
   "id": "41238110",
   "metadata": {},
   "source": [
    "As we can see in the plot above, the use of `StringDistanceEncoder` was extremely advantageous. In addition to making it possible to use a smaller number of features for prediction compared to `OneHotEncoder`, there was a decrease in RMSE for all folds, which indicates an improvement in performance."
   ]
  }
 ],
 "metadata": {
  "kernelspec": {
   "display_name": "Python 3 (ipykernel)",
   "language": "python",
   "name": "python3"
  },
  "language_info": {
   "codemirror_mode": {
    "name": "ipython",
    "version": 3
   },
   "file_extension": ".py",
   "mimetype": "text/x-python",
   "name": "python",
   "nbconvert_exporter": "python",
   "pygments_lexer": "ipython3",
   "version": "3.11.5"
  }
 },
 "nbformat": 4,
 "nbformat_minor": 5
}

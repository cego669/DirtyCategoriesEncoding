{
 "cells": [
  {
   "cell_type": "markdown",
   "id": "38c6250f",
   "metadata": {},
   "source": [
    "# Clustering and visualizing categories with typos"
   ]
  },
  {
   "cell_type": "markdown",
   "id": "04aa37d5",
   "metadata": {},
   "source": [
    "A problem that can occur in any real-life dataset containing categorical variables is the existence of typos. In the toy example below, I show how it is possible to use `StringAgglomerativeEnconder` to group categories with typos and then how to visualize them in a two-dimensional plot using `StringDistanceEncoder`."
   ]
  },
  {
   "cell_type": "markdown",
   "id": "d5dd0369",
   "metadata": {},
   "source": [
    "## 1) Creating categories with typos"
   ]
  },
  {
   "cell_type": "markdown",
   "id": "d2fd9e9d",
   "metadata": {},
   "source": [
    "For this example, I will create the categories `\"apple\"`, `\"pear\"` and `\"orange\"` containing some typos."
   ]
  },
  {
   "cell_type": "code",
   "execution_count": 1,
   "id": "c7a7df86",
   "metadata": {},
   "outputs": [
    {
     "data": {
      "text/html": [
       "<div>\n",
       "<style scoped>\n",
       "    .dataframe tbody tr th:only-of-type {\n",
       "        vertical-align: middle;\n",
       "    }\n",
       "\n",
       "    .dataframe tbody tr th {\n",
       "        vertical-align: top;\n",
       "    }\n",
       "\n",
       "    .dataframe thead th {\n",
       "        text-align: right;\n",
       "    }\n",
       "</style>\n",
       "<table border=\"1\" class=\"dataframe\">\n",
       "  <thead>\n",
       "    <tr style=\"text-align: right;\">\n",
       "      <th></th>\n",
       "      <th>clean_category</th>\n",
       "      <th>dirty_category</th>\n",
       "    </tr>\n",
       "  </thead>\n",
       "  <tbody>\n",
       "    <tr>\n",
       "      <th>0</th>\n",
       "      <td>apple</td>\n",
       "      <td>aple</td>\n",
       "    </tr>\n",
       "    <tr>\n",
       "      <th>1</th>\n",
       "      <td>pear</td>\n",
       "      <td>pera</td>\n",
       "    </tr>\n",
       "    <tr>\n",
       "      <th>2</th>\n",
       "      <td>orange</td>\n",
       "      <td>ornage</td>\n",
       "    </tr>\n",
       "    <tr>\n",
       "      <th>3</th>\n",
       "      <td>apple</td>\n",
       "      <td>aplle</td>\n",
       "    </tr>\n",
       "    <tr>\n",
       "      <th>4</th>\n",
       "      <td>pear</td>\n",
       "      <td>pearl</td>\n",
       "    </tr>\n",
       "    <tr>\n",
       "      <th>5</th>\n",
       "      <td>orange</td>\n",
       "      <td>oragne</td>\n",
       "    </tr>\n",
       "  </tbody>\n",
       "</table>\n",
       "</div>"
      ],
      "text/plain": [
       "  clean_category dirty_category\n",
       "0          apple           aple\n",
       "1           pear           pera\n",
       "2         orange         ornage\n",
       "3          apple          aplle\n",
       "4           pear          pearl\n",
       "5         orange         oragne"
      ]
     },
     "execution_count": 1,
     "metadata": {},
     "output_type": "execute_result"
    }
   ],
   "source": [
    "import pandas as pd\n",
    "\n",
    "# clean categories list\n",
    "clean_categories = [\"apple\", \"pear\", \"orange\",\n",
    "                    \"apple\", \"pear\", \"orange\"]\n",
    "\n",
    "# dirty categories list, with typos\n",
    "dirty_categories = [\"aple\", \"pera\", \"ornage\",\n",
    "                    \"aplle\", \"pearl\", \"oragne\"]\n",
    "\n",
    "# creating a DataFrame for them\n",
    "data = pd.DataFrame({\"clean_category\": clean_categories,\n",
    "                     \"dirty_category\": dirty_categories})\n",
    "\n",
    "# takig a look\n",
    "data"
   ]
  },
  {
   "cell_type": "markdown",
   "id": "a98dd93e",
   "metadata": {},
   "source": [
    "## 2) Clustering the dirty categories"
   ]
  },
  {
   "cell_type": "markdown",
   "id": "ef155060",
   "metadata": {},
   "source": [
    "It's easy to use `StringAgglomerativeEncoder` to cluster dirty categories. The class is compatible with the scikit-learn API, so it is possible to use it within pipelines, for example."
   ]
  },
  {
   "cell_type": "code",
   "execution_count": 2,
   "id": "503e6b3b",
   "metadata": {},
   "outputs": [
    {
     "data": {
      "text/html": [
       "<div>\n",
       "<style scoped>\n",
       "    .dataframe tbody tr th:only-of-type {\n",
       "        vertical-align: middle;\n",
       "    }\n",
       "\n",
       "    .dataframe tbody tr th {\n",
       "        vertical-align: top;\n",
       "    }\n",
       "\n",
       "    .dataframe thead tr th {\n",
       "        text-align: left;\n",
       "    }\n",
       "\n",
       "    .dataframe thead tr:last-of-type th {\n",
       "        text-align: right;\n",
       "    }\n",
       "</style>\n",
       "<table border=\"1\" class=\"dataframe\">\n",
       "  <thead>\n",
       "    <tr>\n",
       "      <th></th>\n",
       "      <th colspan=\"3\" halign=\"left\">dirty_category</th>\n",
       "    </tr>\n",
       "    <tr>\n",
       "      <th>clean_category</th>\n",
       "      <th>apple</th>\n",
       "      <th>orange</th>\n",
       "      <th>pear</th>\n",
       "    </tr>\n",
       "    <tr>\n",
       "      <th>cluster</th>\n",
       "      <th></th>\n",
       "      <th></th>\n",
       "      <th></th>\n",
       "    </tr>\n",
       "  </thead>\n",
       "  <tbody>\n",
       "    <tr>\n",
       "      <th>1</th>\n",
       "      <td>0</td>\n",
       "      <td>2</td>\n",
       "      <td>0</td>\n",
       "    </tr>\n",
       "    <tr>\n",
       "      <th>2</th>\n",
       "      <td>2</td>\n",
       "      <td>0</td>\n",
       "      <td>0</td>\n",
       "    </tr>\n",
       "    <tr>\n",
       "      <th>3</th>\n",
       "      <td>0</td>\n",
       "      <td>0</td>\n",
       "      <td>2</td>\n",
       "    </tr>\n",
       "  </tbody>\n",
       "</table>\n",
       "</div>"
      ],
      "text/plain": [
       "               dirty_category            \n",
       "clean_category          apple orange pear\n",
       "cluster                                  \n",
       "1                           0      2    0\n",
       "2                           2      0    0\n",
       "3                           0      0    2"
      ]
     },
     "execution_count": 2,
     "metadata": {},
     "output_type": "execute_result"
    }
   ],
   "source": [
    "from StringAgglomerativeEncoder import StringAgglomerativeEncoder\n",
    "\n",
    "cluster_encoder = StringAgglomerativeEncoder(t=3)\n",
    "\n",
    "cluster_encoder.fit(data[[\"dirty_category\"]])\n",
    "data[\"cluster\"] = cluster_encoder.transform(data[[\"dirty_category\"]])\n",
    "data[\"cluster\"] = data[\"cluster\"].astype(str)\n",
    "\n",
    "data.pivot_table(index=\"cluster\", columns=\"clean_category\", aggfunc=\"count\", fill_value=0)"
   ]
  },
  {
   "cell_type": "markdown",
   "id": "1d34fd8d",
   "metadata": {},
   "source": [
    "As you can see above, `StringAgglomerativeEncoder` was able to group the dirty categories, with the following correspondences: cluster `1` -> `\"orange\"`, cluster `2` -> `\"apple\"`, cluster `3` -> `\"pear\"`."
   ]
  },
  {
   "cell_type": "markdown",
   "id": "dabf3b0f",
   "metadata": {},
   "source": [
    "## 3) Projecting the distances between dirty categories into two-dimensional space"
   ]
  },
  {
   "cell_type": "markdown",
   "id": "8ee657a5",
   "metadata": {},
   "source": [
    "To make it possible to visualize dirty categories in a two-dimensional space, you can use `StringDistanceEncoder`."
   ]
  },
  {
   "cell_type": "code",
   "execution_count": 3,
   "id": "ee8f6d92",
   "metadata": {},
   "outputs": [
    {
     "data": {
      "text/html": [
       "<div>\n",
       "<style scoped>\n",
       "    .dataframe tbody tr th:only-of-type {\n",
       "        vertical-align: middle;\n",
       "    }\n",
       "\n",
       "    .dataframe tbody tr th {\n",
       "        vertical-align: top;\n",
       "    }\n",
       "\n",
       "    .dataframe thead th {\n",
       "        text-align: right;\n",
       "    }\n",
       "</style>\n",
       "<table border=\"1\" class=\"dataframe\">\n",
       "  <thead>\n",
       "    <tr style=\"text-align: right;\">\n",
       "      <th></th>\n",
       "      <th>clean_category</th>\n",
       "      <th>dirty_category</th>\n",
       "      <th>cluster</th>\n",
       "      <th>component_1</th>\n",
       "      <th>component_2</th>\n",
       "    </tr>\n",
       "  </thead>\n",
       "  <tbody>\n",
       "    <tr>\n",
       "      <th>0</th>\n",
       "      <td>apple</td>\n",
       "      <td>aple</td>\n",
       "      <td>2</td>\n",
       "      <td>1.312357</td>\n",
       "      <td>0.674702</td>\n",
       "    </tr>\n",
       "    <tr>\n",
       "      <th>1</th>\n",
       "      <td>pear</td>\n",
       "      <td>pera</td>\n",
       "      <td>3</td>\n",
       "      <td>1.356674</td>\n",
       "      <td>-0.040781</td>\n",
       "    </tr>\n",
       "    <tr>\n",
       "      <th>2</th>\n",
       "      <td>orange</td>\n",
       "      <td>ornage</td>\n",
       "      <td>1</td>\n",
       "      <td>1.471692</td>\n",
       "      <td>-0.670581</td>\n",
       "    </tr>\n",
       "    <tr>\n",
       "      <th>3</th>\n",
       "      <td>apple</td>\n",
       "      <td>aplle</td>\n",
       "      <td>2</td>\n",
       "      <td>1.348015</td>\n",
       "      <td>0.686482</td>\n",
       "    </tr>\n",
       "    <tr>\n",
       "      <th>4</th>\n",
       "      <td>pear</td>\n",
       "      <td>pearl</td>\n",
       "      <td>3</td>\n",
       "      <td>1.375610</td>\n",
       "      <td>0.148374</td>\n",
       "    </tr>\n",
       "    <tr>\n",
       "      <th>5</th>\n",
       "      <td>orange</td>\n",
       "      <td>oragne</td>\n",
       "      <td>1</td>\n",
       "      <td>1.442407</td>\n",
       "      <td>-0.674377</td>\n",
       "    </tr>\n",
       "  </tbody>\n",
       "</table>\n",
       "</div>"
      ],
      "text/plain": [
       "  clean_category dirty_category cluster  component_1  component_2\n",
       "0          apple           aple       2     1.312357     0.674702\n",
       "1           pear           pera       3     1.356674    -0.040781\n",
       "2         orange         ornage       1     1.471692    -0.670581\n",
       "3          apple          aplle       2     1.348015     0.686482\n",
       "4           pear          pearl       3     1.375610     0.148374\n",
       "5         orange         oragne       1     1.442407    -0.674377"
      ]
     },
     "execution_count": 3,
     "metadata": {},
     "output_type": "execute_result"
    }
   ],
   "source": [
    "from StringDistanceEncoder import StringDistanceEncoder\n",
    "\n",
    "distance_encoder = StringDistanceEncoder(n_components=2)\n",
    "\n",
    "distance_encoder.fit(data[[\"dirty_category\"]])\n",
    "data[[\"component_1\", \"component_2\"]] = distance_encoder.transform(data[[\"dirty_category\"]])\n",
    "\n",
    "data"
   ]
  },
  {
   "cell_type": "markdown",
   "id": "c7c2f938",
   "metadata": {},
   "source": [
    "Note that, associated with each dirty category, there are two corresponding values for `\"component_1\"` and `\"component_2\"`, which can be used for prediction or visualization purposes."
   ]
  },
  {
   "cell_type": "markdown",
   "id": "89faf54d",
   "metadata": {},
   "source": [
    "## 4) Plotting"
   ]
  },
  {
   "cell_type": "markdown",
   "id": "f8b7d0a9",
   "metadata": {},
   "source": [
    "It's now easy to plot and see the clusters corresponding to each dirty category!"
   ]
  },
  {
   "cell_type": "code",
   "execution_count": 4,
   "id": "17753fa6",
   "metadata": {},
   "outputs": [
    {
     "data": {
      "image/png": "[encoded data removed]",
      "text/plain": [
       "<Figure size 640x480 with 1 Axes>"
      ]
     },
     "metadata": {},
     "output_type": "display_data"
    }
   ],
   "source": [
    "import matplotlib.pyplot as plt\n",
    "import seaborn as sns\n",
    "\n",
    "def label_point(data, ax):\n",
    "    for i, data in data.iterrows():\n",
    "        ax.text(data[\"component_1\"]-.007, data[\"component_2\"]+.05,\n",
    "                str(data[\"dirty_category\"]))\n",
    "\n",
    "sns.scatterplot(x=\"component_1\", y=\"component_2\", hue=\"cluster\", data=data)\n",
    "plt.xlim((1.3, 1.5))\n",
    "plt.ylim((-.8, .8))\n",
    "label_point(data, plt.gca())\n",
    "plt.gca().spines[['right', 'top']].set_visible(False)\n",
    "plt.title(\"StringAgglomerativeEncoder example (3 clusters)\")\n",
    "plt.savefig(\"agglomerating_categories.png\", dpi=400)\n",
    "plt.show()"
   ]
  }
 ],
 "metadata": {
  "kernelspec": {
   "display_name": "Python 3 (ipykernel)",
   "language": "python",
   "name": "python3"
  },
  "language_info": {
   "codemirror_mode": {
    "name": "ipython",
    "version": 3
   },
   "file_extension": ".py",
   "mimetype": "text/x-python",
   "name": "python",
   "nbconvert_exporter": "python",
   "pygments_lexer": "ipython3",
   "version": "3.11.5"
  }
 },
 "nbformat": 4,
 "nbformat_minor": 5
}
